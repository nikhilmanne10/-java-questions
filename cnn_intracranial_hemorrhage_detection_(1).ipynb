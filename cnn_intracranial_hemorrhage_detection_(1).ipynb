{
  "metadata": {
    "kernelspec": {
      "display_name": "Python 3",
      "language": "python",
      "name": "python3"
    },
    "language_info": {
      "name": "python",
      "version": "3.10.12",
      "mimetype": "text/x-python",
      "codemirror_mode": {
        "name": "ipython",
        "version": 3
      },
      "pygments_lexer": "ipython3",
      "nbconvert_exporter": "python",
      "file_extension": ".py"
    },
    "kaggle": {
      "accelerator": "none",
      "dataSources": [
        {
          "sourceId": 13451,
          "databundleVersionId": 1188070,
          "sourceType": "competition"
        },
        {
          "sourceId": 8373392,
          "sourceType": "datasetVersion",
          "datasetId": 4978245
        },
        {
          "sourceId": 8375248,
          "sourceType": "datasetVersion",
          "datasetId": 4979697
        },
        {
          "sourceId": 8375276,
          "sourceType": "datasetVersion",
          "datasetId": 4979718
        }
      ],
      "dockerImageVersionId": 30626,
      "isInternetEnabled": true,
      "language": "python",
      "sourceType": "notebook",
      "isGpuEnabled": false
    },
    "colab": {
      "provenance": [],
      "toc_visible": true,
      "include_colab_link": true
    }
  },
  "nbformat_minor": 0,
  "nbformat": 4,
  "cells": [
    {
      "cell_type": "markdown",
      "metadata": {
        "id": "view-in-github",
        "colab_type": "text"
      },
      "source": [
        "<a href=\"https://colab.research.google.com/github/nikhilmanne10/-java-questions/blob/main/cnn_intracranial_hemorrhage_detection_(1).ipynb\" target=\"_parent\"><img src=\"https://colab.research.google.com/assets/colab-badge.svg\" alt=\"Open In Colab\"/></a>"
      ]
    },
    {
      "cell_type": "code",
      "source": [
        "!pip install colorama"
      ],
      "metadata": {
        "colab": {
          "base_uri": "https://localhost:8080/"
        },
        "id": "P3GkebgMiZwE",
        "outputId": "662afa2e-4cc3-434d-8e6d-25413aa87856"
      },
      "execution_count": 1,
      "outputs": [
        {
          "output_type": "stream",
          "name": "stdout",
          "text": [
            "Collecting colorama\n",
            "  Downloading colorama-0.4.6-py2.py3-none-any.whl (25 kB)\n",
            "Installing collected packages: colorama\n",
            "Successfully installed colorama-0.4.6\n",
            "^C\n"
          ]
        }
      ]
    },
    {
      "cell_type": "code",
      "source": [
        "import os\n",
        "import gc\n",
        "import cv2\n",
        "import copy\n",
        "import time\n",
        "import random\n",
        "\n",
        "# For data manipulation\n",
        "import numpy as np\n",
        "import pandas as pd\n",
        "\n",
        "# Pytorch Imports\n",
        "import torch\n",
        "import torch.nn as nn\n",
        "import torch.optim as optim\n",
        "from torch.optim import lr_scheduler\n",
        "from torch.utils.data import Dataset, DataLoader\n",
        "from torch.cuda import amp\n",
        "\n",
        "# Utils\n",
        "import joblib\n",
        "from tqdm import tqdm\n",
        "from collections import defaultdict\n",
        "\n",
        "# Sklearn Imports\n",
        "from sklearn.metrics import mean_squared_error\n",
        "from sklearn.model_selection import StratifiedKFold, KFold\n",
        "\n",
        "import time\n",
        "\n",
        "# Albumentations for augmentations\n",
        "import albumentations as A\n",
        "from albumentations.pytorch import ToTensorV2\n",
        "\n",
        "# For colored terminal text\n",
        "from colorama import Fore, Back, Style\n",
        "c_ = Fore.CYAN\n",
        "sr_ = Style.RESET_ALL\n",
        "\n",
        "import warnings\n",
        "warnings.filterwarnings(\"ignore\")\n",
        "\n",
        "# For descriptive error messages\n",
        "os.environ['CUDA_LAUNCH_BLOCKING'] = \"1\""
      ],
      "metadata": {
        "_cell_guid": "b1076dfc-b9ad-4769-8c92-a6c4dae69d19",
        "_uuid": "8f2839f25d086af736a60e9eeb907d3b93b6e0e5",
        "execution": {
          "iopub.status.busy": "2024-05-10T08:44:51.203775Z",
          "iopub.execute_input": "2024-05-10T08:44:51.204294Z",
          "iopub.status.idle": "2024-05-10T08:44:58.284130Z",
          "shell.execute_reply.started": "2024-05-10T08:44:51.204223Z",
          "shell.execute_reply": "2024-05-10T08:44:58.282977Z"
        },
        "trusted": true,
        "id": "9s3up3vWhtY3",
        "colab": {
          "base_uri": "https://localhost:8080/",
          "height": 443
        },
        "outputId": "d90ab0d0-db21-43d1-e53d-2b6111917a57"
      },
      "execution_count": 2,
      "outputs": [
        {
          "output_type": "stream",
          "name": "stderr",
          "text": [
            "Exception ignored in: <function WeakSet.__init__.<locals>._remove at 0x7857399e7f40>\n",
            "Traceback (most recent call last):\n",
            "  File \"/usr/lib/python3.10/_weakrefset.py\", line 39, in _remove\n",
            "    def _remove(item, selfref=ref(self)):\n",
            "KeyboardInterrupt: \n"
          ]
        },
        {
          "output_type": "error",
          "ename": "KeyboardInterrupt",
          "evalue": "",
          "traceback": [
            "\u001b[0;31m---------------------------------------------------------------------------\u001b[0m",
            "\u001b[0;31mKeyboardInterrupt\u001b[0m                         Traceback (most recent call last)",
            "\u001b[0;32m<ipython-input-2-262f8ac4e946>\u001b[0m in \u001b[0;36m<cell line: 13>\u001b[0;34m()\u001b[0m\n\u001b[1;32m     11\u001b[0m \u001b[0;34m\u001b[0m\u001b[0m\n\u001b[1;32m     12\u001b[0m \u001b[0;31m# Pytorch Imports\u001b[0m\u001b[0;34m\u001b[0m\u001b[0;34m\u001b[0m\u001b[0m\n\u001b[0;32m---> 13\u001b[0;31m \u001b[0;32mimport\u001b[0m \u001b[0mtorch\u001b[0m\u001b[0;34m\u001b[0m\u001b[0;34m\u001b[0m\u001b[0m\n\u001b[0m\u001b[1;32m     14\u001b[0m \u001b[0;32mimport\u001b[0m \u001b[0mtorch\u001b[0m\u001b[0;34m.\u001b[0m\u001b[0mnn\u001b[0m \u001b[0;32mas\u001b[0m \u001b[0mnn\u001b[0m\u001b[0;34m\u001b[0m\u001b[0;34m\u001b[0m\u001b[0m\n\u001b[1;32m     15\u001b[0m \u001b[0;32mimport\u001b[0m \u001b[0mtorch\u001b[0m\u001b[0;34m.\u001b[0m\u001b[0moptim\u001b[0m \u001b[0;32mas\u001b[0m \u001b[0moptim\u001b[0m\u001b[0;34m\u001b[0m\u001b[0;34m\u001b[0m\u001b[0m\n",
            "\u001b[0;32m/usr/local/lib/python3.10/dist-packages/torch/__init__.py\u001b[0m in \u001b[0;36m<module>\u001b[0;34m\u001b[0m\n\u001b[1;32m    235\u001b[0m     \u001b[0;32mif\u001b[0m \u001b[0mUSE_GLOBAL_DEPS\u001b[0m\u001b[0;34m:\u001b[0m\u001b[0;34m\u001b[0m\u001b[0;34m\u001b[0m\u001b[0m\n\u001b[1;32m    236\u001b[0m         \u001b[0m_load_global_deps\u001b[0m\u001b[0;34m(\u001b[0m\u001b[0;34m)\u001b[0m\u001b[0;34m\u001b[0m\u001b[0;34m\u001b[0m\u001b[0m\n\u001b[0;32m--> 237\u001b[0;31m     \u001b[0;32mfrom\u001b[0m \u001b[0mtorch\u001b[0m\u001b[0;34m.\u001b[0m\u001b[0m_C\u001b[0m \u001b[0;32mimport\u001b[0m \u001b[0;34m*\u001b[0m  \u001b[0;31m# noqa: F403\u001b[0m\u001b[0;34m\u001b[0m\u001b[0;34m\u001b[0m\u001b[0m\n\u001b[0m\u001b[1;32m    238\u001b[0m \u001b[0;34m\u001b[0m\u001b[0m\n\u001b[1;32m    239\u001b[0m \u001b[0;31m# Appease the type checker; ordinarily this binding is inserted by the\u001b[0m\u001b[0;34m\u001b[0m\u001b[0;34m\u001b[0m\u001b[0m\n",
            "\u001b[0;31mKeyboardInterrupt\u001b[0m: "
          ]
        }
      ]
    },
    {
      "cell_type": "code",
      "source": [
        "!pip install tensorflow-addons\n",
        "import pandas as pd\n",
        "import numpy as np\n",
        "import tensorflow as tf\n",
        "import tensorflow_addons as tfa\n",
        "import glob, warnings\n",
        "import matplotlib.pyplot as plt\n",
        "from sklearn.metrics import confusion_matrix, classification_report\n",
        "import seaborn as sns\n",
        "\n",
        "warnings.filterwarnings('ignore')\n",
        "print('TensorFlow Version ' + tf.__version__)"
      ],
      "metadata": {
        "execution": {
          "iopub.status.busy": "2024-05-10T08:44:58.286185Z",
          "iopub.execute_input": "2024-05-10T08:44:58.287183Z",
          "iopub.status.idle": "2024-05-10T08:45:15.607689Z",
          "shell.execute_reply.started": "2024-05-10T08:44:58.287141Z",
          "shell.execute_reply": "2024-05-10T08:45:15.606082Z"
        },
        "trusted": true,
        "id": "TFZyNaIJhtY8",
        "collapsed": true
      },
      "execution_count": null,
      "outputs": []
    },
    {
      "cell_type": "code",
      "source": [
        "import seaborn as sns\n",
        "import matplotlib.pyplot as plt\n",
        "######\n",
        "import os\n",
        "import os.path\n",
        "from pathlib import Path\n",
        "#import pydicom\n",
        "import glob\n",
        "######\n",
        "from PIL import Image\n",
        "from tensorflow.keras.preprocessing import image\n",
        "from tensorflow.keras.preprocessing.image import ImageDataGenerator\n",
        "######\n",
        "from sklearn.preprocessing import StandardScaler\n",
        "from sklearn.preprocessing import MinMaxScaler\n",
        "from tensorflow.keras.utils import to_categorical\n",
        "from sklearn.model_selection import train_test_split\n",
        "from tensorflow.keras import regularizers\n",
        "######\n",
        "from sklearn.metrics import confusion_matrix, accuracy_score, classification_report, roc_auc_score, roc_curve\n",
        "######\n",
        "from tensorflow.keras.optimizers import RMSprop,Adam,Optimizer\n",
        "######\n",
        "from tensorflow.keras.models import Sequential\n",
        "from tensorflow.keras.layers import Dense, Dropout, Flatten, Conv2D, MaxPool2D, BatchNormalization,MaxPooling2D\n",
        "from tensorflow.keras.layers import BatchNormalization,Permute, TimeDistributed, Bidirectional,GRU, SimpleRNN, LSTM, GlobalAveragePooling2D\n",
        "from tensorflow.keras import models\n",
        "from tensorflow.keras import layers\n",
        "import tensorflow as tf\n",
        "\n",
        "######\n",
        "from warnings import filterwarnings\n",
        "\n",
        "filterwarnings(\"ignore\",category=DeprecationWarning)\n",
        "filterwarnings(\"ignore\", category=FutureWarning)\n",
        "filterwarnings(\"ignore\", category=UserWarning)"
      ],
      "metadata": {
        "execution": {
          "iopub.status.busy": "2024-05-10T08:45:15.609391Z",
          "iopub.execute_input": "2024-05-10T08:45:15.610213Z",
          "iopub.status.idle": "2024-05-10T08:45:15.630129Z",
          "shell.execute_reply.started": "2024-05-10T08:45:15.610174Z",
          "shell.execute_reply": "2024-05-10T08:45:15.628091Z"
        },
        "trusted": true,
        "id": "Uj3fHY_1htY-"
      },
      "execution_count": null,
      "outputs": []
    },
    {
      "cell_type": "code",
      "source": [
        "###########################################################\n",
        "#### Setting the path and Reading the data\n",
        "###################################################\n",
        "train = pd.read_csv(\"../input/rsna-intracranial-hemorrhage-detection/rsna-intracranial-hemorrhage-detection/stage_2_train.csv\")\n",
        "sub = pd.read_csv(\"../input/rsna-intracranial-hemorrhage-detection/rsna-intracranial-hemorrhage-detection/stage_2_sample_submission.csv\")\n",
        "train_images = os.listdir(\"../input/rsna-intracranial-hemorrhage-detection/rsna-intracranial-hemorrhage-detection/stage_2_train/\")\n",
        "test_images = os.listdir(\"../input/rsna-intracranial-hemorrhage-detection/rsna-intracranial-hemorrhage-detection/stage_2_test/\")\n",
        "print ('Train:', train.shape[0])\n",
        "print ('Sub:', sub.shape[0])"
      ],
      "metadata": {
        "execution": {
          "iopub.status.busy": "2024-05-10T08:45:15.633968Z",
          "iopub.execute_input": "2024-05-10T08:45:15.634465Z",
          "iopub.status.idle": "2024-05-10T08:46:11.775845Z",
          "shell.execute_reply.started": "2024-05-10T08:45:15.634420Z",
          "shell.execute_reply": "2024-05-10T08:46:11.774530Z"
        },
        "trusted": true,
        "id": "W7gK9_i6htY-",
        "collapsed": true
      },
      "execution_count": null,
      "outputs": []
    },
    {
      "cell_type": "code",
      "source": [
        "###########################################################\n",
        "#### Getting training and testing data\n",
        "###################################################\n",
        "train['type'] = train['ID'].str.split(\"_\", n = 3, expand = True)[2]\n",
        "train['PatientID'] = train['ID'].str.split(\"_\", n = 3, expand = True)[1]\n",
        "train['filename'] = train['ID'].apply(lambda st: \"ID_\" + st.split('_')[1] + \".png\")\n",
        "# Remove invalid PNGs\n",
        "train=train.head(150000)\n",
        "\n",
        "\n",
        "sub['filename'] = sub['ID'].apply(lambda st: \"ID_\" + st.split('_')[1] + \".png\")\n",
        "sub['type'] = sub['ID'].apply(lambda st: st.split('_')[2])\n",
        "sub=sub.head(150000)\n",
        "train.head()"
      ],
      "metadata": {
        "execution": {
          "iopub.status.busy": "2024-05-10T08:46:11.777522Z",
          "iopub.execute_input": "2024-05-10T08:46:11.777937Z",
          "iopub.status.idle": "2024-05-10T08:47:01.937520Z",
          "shell.execute_reply.started": "2024-05-10T08:46:11.777900Z",
          "shell.execute_reply": "2024-05-10T08:47:01.936577Z"
        },
        "trusted": true,
        "id": "tag6itCFhtY_",
        "collapsed": true
      },
      "execution_count": null,
      "outputs": []
    },
    {
      "cell_type": "code",
      "source": [
        "###########################################################\n",
        "#### Understanding the unique types of brain hemmorhage\n",
        "###################################################\n",
        "print ('Train type =', list(train.type.unique()))\n",
        "print ('Train label =', list(train.Label.unique()))"
      ],
      "metadata": {
        "execution": {
          "iopub.status.busy": "2024-05-10T08:47:01.938865Z",
          "iopub.execute_input": "2024-05-10T08:47:01.939753Z",
          "iopub.status.idle": "2024-05-10T08:47:01.983755Z",
          "shell.execute_reply.started": "2024-05-10T08:47:01.939712Z",
          "shell.execute_reply": "2024-05-10T08:47:01.981947Z"
        },
        "trusted": true,
        "id": "1FuI-C0PhtZA",
        "collapsed": true
      },
      "execution_count": null,
      "outputs": []
    },
    {
      "cell_type": "code",
      "source": [
        "###########################################################\n",
        "#### No of unique type of patients for each of the category\n",
        "##########################################################\n",
        "print ('Number of Patients: ', train.PatientID.nunique())"
      ],
      "metadata": {
        "execution": {
          "iopub.status.busy": "2024-05-10T08:47:01.985518Z",
          "iopub.execute_input": "2024-05-10T08:47:01.986006Z",
          "iopub.status.idle": "2024-05-10T08:47:02.036587Z",
          "shell.execute_reply.started": "2024-05-10T08:47:01.985971Z",
          "shell.execute_reply": "2024-05-10T08:47:02.035085Z"
        },
        "trusted": true,
        "id": "UzRDO7DLhtZA"
      },
      "execution_count": null,
      "outputs": []
    },
    {
      "cell_type": "code",
      "source": [
        "###########################################################\n",
        "#### No of unique type of patients for each of the category\n",
        "##########################################################\n",
        "train.type.value_counts()"
      ],
      "metadata": {
        "execution": {
          "iopub.status.busy": "2024-05-10T08:47:02.038199Z",
          "iopub.execute_input": "2024-05-10T08:47:02.038538Z",
          "iopub.status.idle": "2024-05-10T08:47:02.085376Z",
          "shell.execute_reply.started": "2024-05-10T08:47:02.038510Z",
          "shell.execute_reply": "2024-05-10T08:47:02.084043Z"
        },
        "trusted": true,
        "id": "aT8zCzswhtZB"
      },
      "execution_count": null,
      "outputs": []
    },
    {
      "cell_type": "code",
      "source": [
        "#############################################################\n",
        "#### Images with label of 0 and 1 such as hammerhoage or not\n",
        "#############################################################\n",
        "print(train.Label.value_counts())\n",
        "sns.countplot(x='Label', data=train)"
      ],
      "metadata": {
        "execution": {
          "iopub.status.busy": "2024-05-10T08:47:02.087538Z",
          "iopub.execute_input": "2024-05-10T08:47:02.088089Z",
          "iopub.status.idle": "2024-05-10T08:47:02.386419Z",
          "shell.execute_reply.started": "2024-05-10T08:47:02.088039Z",
          "shell.execute_reply": "2024-05-10T08:47:02.384915Z"
        },
        "trusted": true,
        "id": "-KYRjabnhtZC"
      },
      "execution_count": null,
      "outputs": []
    },
    {
      "cell_type": "code",
      "source": [
        "#######################################################################################\n",
        "#### Understanding the no of unique type of patients for each of the category in 0 and 1\n",
        "######################################################################################\n",
        "train.groupby('type').Label.value_counts()"
      ],
      "metadata": {
        "execution": {
          "iopub.status.busy": "2024-05-10T08:47:02.392323Z",
          "iopub.execute_input": "2024-05-10T08:47:02.393651Z",
          "iopub.status.idle": "2024-05-10T08:47:02.445520Z",
          "shell.execute_reply.started": "2024-05-10T08:47:02.393596Z",
          "shell.execute_reply": "2024-05-10T08:47:02.444091Z"
        },
        "trusted": true,
        "id": "RmO1T4CvhtZC"
      },
      "execution_count": null,
      "outputs": []
    },
    {
      "cell_type": "code",
      "source": [
        "#######################################################################################\n",
        "#### Understanding the no of unique type of patients for each of the category in 0 and 1\n",
        "#### in terms of barplot\n",
        "#####################################################################################\n",
        "\n",
        "sns.countplot(x=\"Label\", hue=\"type\", data=train)\n"
      ],
      "metadata": {
        "execution": {
          "iopub.status.busy": "2024-05-10T08:47:02.447649Z",
          "iopub.execute_input": "2024-05-10T08:47:02.448187Z",
          "iopub.status.idle": "2024-05-10T08:47:03.199294Z",
          "shell.execute_reply.started": "2024-05-10T08:47:02.448136Z",
          "shell.execute_reply": "2024-05-10T08:47:03.197552Z"
        },
        "trusted": true,
        "id": "zaYUjEBrhtZD"
      },
      "execution_count": null,
      "outputs": []
    },
    {
      "cell_type": "code",
      "source": [
        "#######################################################################################\n",
        "#### Understanding the no of unique type of patients for each of the category in 0 and 1\n",
        "#### in terms of Pie-plot\n",
        "######################################################################################\n",
        "train.type.value_counts().plot.pie(figsize=(6,6))\n",
        "plt.show()"
      ],
      "metadata": {
        "execution": {
          "iopub.status.busy": "2024-05-10T08:47:03.201325Z",
          "iopub.execute_input": "2024-05-10T08:47:03.202405Z",
          "iopub.status.idle": "2024-05-10T08:47:03.447407Z",
          "shell.execute_reply.started": "2024-05-10T08:47:03.202343Z",
          "shell.execute_reply": "2024-05-10T08:47:03.445593Z"
        },
        "trusted": true,
        "id": "xwkGqTk5htZD"
      },
      "execution_count": null,
      "outputs": []
    },
    {
      "cell_type": "code",
      "source": [
        "#######################################################################################\n",
        "#### Here, we are setting the image' windows (3types), ROI and skull removal\n",
        "######################################################################################\n",
        "TRAIN_IMG_PATH = \"../input/rsna-intracranial-hemorrhage-detection/rsna-intracranial-hemorrhage-detection/stage_2_train/\"\n",
        "TEST_IMG_PATH = \"../input/rsna-intracranial-hemorrhage-detection/rsna-intracranial-hemorrhage-detection/stage_2_test/\"\n",
        "BASE_PATH = '../input/rsna-intracranial-hemorrhage-detection/rsna-intracranial-hemorrhage-detection/'\n",
        "TRAIN_DIR = 'stage_2_train/'\n",
        "TEST_DIR = 'stage_2_test/'\n",
        "\n",
        "def window_image(img, window_center,window_width, intercept, slope, rescale=True):\n",
        "\n",
        "    img = (img*slope +intercept)\n",
        "    img_min = window_center - window_width//2\n",
        "    img_max = window_center + window_width//2\n",
        "    img[img<img_min] = img_min\n",
        "    img[img>img_max] = img_max\n",
        "\n",
        "    if rescale:\n",
        "        # Extra rescaling to 0-1, not in the original notebook\n",
        "        img = (img - img_min) / (img_max - img_min)\n",
        "\n",
        "    return img\n",
        "\n",
        "def get_first_of_dicom_field_as_int(x):\n",
        "    #get x[0] as in int is x is a 'pydicom.multival.MultiValue', otherwise get int(x)\n",
        "    if type(x) == pydicom.multival.MultiValue:\n",
        "        return int(x[0])\n",
        "    else:\n",
        "        return int(x)\n",
        "\n",
        "def get_windowing(data):\n",
        "    dicom_fields = [data[('0028','1050')].value, #window center\n",
        "                    data[('0028','1051')].value, #window width\n",
        "                    data[('0028','1052')].value, #intercept\n",
        "                    data[('0028','1053')].value] #slope\n",
        "    return [get_first_of_dicom_field_as_int(x) for x in dicom_fields]\n",
        "\n",
        "\n",
        "\n",
        "def view_images(images, title = '', aug = None):\n",
        "    width = 5\n",
        "    height = 2\n",
        "    fig, axs = plt.subplots(height, width, figsize=(15,5))\n",
        "\n",
        "    for im in range(0, height * width):\n",
        "        data = pydicom.read_file(os.path.join(TRAIN_IMG_PATH,'ID_'+images[im]+ '.dcm'))\n",
        "        image = data.pixel_array\n",
        "        window_center , window_width, intercept, slope = get_windowing(data)\n",
        "        image_windowed = window_image(image, window_center, window_width, intercept, slope)\n",
        "\n",
        "\n",
        "        i = im // width\n",
        "        j = im % width\n",
        "        axs[i,j].imshow(image_windowed, cmap=plt.cm.bone)\n",
        "        axs[i,j].axis('off')\n",
        "\n",
        "    plt.suptitle(title)\n",
        "    plt.show()"
      ],
      "metadata": {
        "execution": {
          "iopub.status.busy": "2024-05-10T08:47:03.450374Z",
          "iopub.execute_input": "2024-05-10T08:47:03.451832Z",
          "iopub.status.idle": "2024-05-10T08:47:03.482642Z",
          "shell.execute_reply.started": "2024-05-10T08:47:03.451758Z",
          "shell.execute_reply": "2024-05-10T08:47:03.480749Z"
        },
        "trusted": true,
        "id": "BoysTwe2htZD"
      },
      "execution_count": null,
      "outputs": []
    },
    {
      "cell_type": "code",
      "source": [
        "#######################################################################################\n",
        "#### Setting and demonstration of testing data\n",
        "######################################################################################\n",
        "\n",
        "test = pd.DataFrame(sub.filename.unique(), columns=['filename'])\n",
        "print ('Test:', test.shape[0])\n",
        "test.head()"
      ],
      "metadata": {
        "execution": {
          "iopub.status.busy": "2024-05-10T08:47:03.484817Z",
          "iopub.execute_input": "2024-05-10T08:47:03.485958Z",
          "iopub.status.idle": "2024-05-10T08:47:03.525590Z",
          "shell.execute_reply.started": "2024-05-10T08:47:03.485913Z",
          "shell.execute_reply": "2024-05-10T08:47:03.524389Z"
        },
        "trusted": true,
        "id": "hKUyHkq0htZE"
      },
      "execution_count": null,
      "outputs": []
    },
    {
      "cell_type": "code",
      "source": [
        "#########################################################################################################\n",
        "#### Getting some random images for training and testing to reduce the computational complexity\n",
        "########################################################################################################\n",
        "np.random.seed(1234)\n",
        "sample_files = np.random.choice(os.listdir(TRAIN_IMG_PATH), 150000)\n",
        "sample_df = train[train.filename.apply(lambda x: x.replace('.png', '.dcm')).isin(sample_files)]\n",
        "print(sample_df.shape)\n",
        "\n",
        "pivot_df = sample_df[['Label', 'filename', 'type']].drop_duplicates().pivot(\n",
        "    index='filename', columns='type', values='Label').reset_index()\n",
        "print(pivot_df.shape)\n",
        "pivot_df.head()"
      ],
      "metadata": {
        "execution": {
          "iopub.status.busy": "2024-05-10T08:47:03.527324Z",
          "iopub.execute_input": "2024-05-10T08:47:03.528740Z",
          "iopub.status.idle": "2024-05-10T08:47:06.339424Z",
          "shell.execute_reply.started": "2024-05-10T08:47:03.528682Z",
          "shell.execute_reply": "2024-05-10T08:47:06.338046Z"
        },
        "trusted": true,
        "id": "-y38PYLrhtZE"
      },
      "execution_count": null,
      "outputs": []
    },
    {
      "cell_type": "code",
      "source": [
        "#########################################################################################################\n",
        "#### Getting some random images for training and testing to reduce the computational complexity\n",
        "########################################################################################################\n",
        "np.random.seed(1234)\n",
        "sample_files_test = np.random.choice(os.listdir(TEST_IMG_PATH), 150000)\n",
        "sample_files_test_df = sub[sub.filename.apply(lambda x: x.replace('.png', '.dcm')).isin(sample_files_test)]\n",
        "print(sample_files_test_df.shape)\n",
        "\n",
        "pivot_test_df = sample_files_test_df[['Label', 'filename', 'type']].drop_duplicates().pivot(\n",
        "    index='filename', columns='type', values='Label').reset_index()\n",
        "print(pivot_test_df.shape)\n",
        "pivot_test_df.head()"
      ],
      "metadata": {
        "execution": {
          "iopub.status.busy": "2024-05-10T08:47:06.341588Z",
          "iopub.execute_input": "2024-05-10T08:47:06.342027Z",
          "iopub.status.idle": "2024-05-10T08:47:06.824769Z",
          "shell.execute_reply.started": "2024-05-10T08:47:06.341992Z",
          "shell.execute_reply": "2024-05-10T08:47:06.823679Z"
        },
        "trusted": true,
        "id": "jOOlXM5_htZE"
      },
      "execution_count": null,
      "outputs": []
    },
    {
      "cell_type": "code",
      "source": [
        "#########################################################################################################\n",
        "#### Getting and storing completly processed images (ROI, windowing, skull removal in directory)\n",
        "########################################################################################################\n",
        "def save_and_resize(filenames, load_dir):\n",
        "    save_dir = '/kaggle/tmp/'\n",
        "    if not os.path.exists(save_dir):\n",
        "        os.makedirs(save_dir)\n",
        "\n",
        "    for filename in tqdm(filenames):\n",
        "        path = load_dir + filename\n",
        "        new_path = save_dir + filename.replace('.dcm', '.png')\n",
        "\n",
        "        dcm = pydicom.dcmread(path)\n",
        "        window_center , window_width, intercept, slope = get_windowing(dcm)\n",
        "        img = dcm.pixel_array\n",
        "        img = window_image(img, window_center, window_width, intercept, slope)\n",
        "\n",
        "        resized = cv2.resize(img, (299, 299))\n",
        "        res = cv2.imwrite(new_path, resized)\n",
        "        if not res:\n",
        "            print('Failed')"
      ],
      "metadata": {
        "execution": {
          "iopub.status.busy": "2024-05-10T08:47:06.826488Z",
          "iopub.execute_input": "2024-05-10T08:47:06.827377Z",
          "iopub.status.idle": "2024-05-10T08:47:06.835833Z",
          "shell.execute_reply.started": "2024-05-10T08:47:06.827339Z",
          "shell.execute_reply": "2024-05-10T08:47:06.834581Z"
        },
        "trusted": true,
        "id": "l9qPxsK4htZE"
      },
      "execution_count": null,
      "outputs": []
    },
    {
      "cell_type": "code",
      "source": [
        "#########################################################################################################\n",
        "#### Getting and storing completly processed images (ROI, windowing, skull removal in directory)\n",
        "########################################################################################################\n",
        "\n",
        "from tqdm import tqdm\n",
        "import json\n",
        "import cv2\n",
        "\n",
        "save_and_resize(filenames=sample_files, load_dir=BASE_PATH + TRAIN_DIR)\n",
        "save_and_resize(filenames=sample_files_test, load_dir=BASE_PATH + TEST_DIR)\n",
        "#save_and_resize(filenames=os.listdir(BASE_PATH + TEST_DIR), load_dir=BASE_PATH + TEST_DIR)"
      ],
      "metadata": {
        "execution": {
          "iopub.status.busy": "2024-05-10T08:47:06.837452Z",
          "iopub.execute_input": "2024-05-10T08:47:06.837824Z",
          "iopub.status.idle": "2024-05-10T10:31:48.487105Z",
          "shell.execute_reply.started": "2024-05-10T08:47:06.837792Z",
          "shell.execute_reply": "2024-05-10T10:31:48.479305Z"
        },
        "trusted": true,
        "id": "BcyMZg-6htZF"
      },
      "execution_count": null,
      "outputs": []
    },
    {
      "cell_type": "code",
      "source": [
        "#########################################################################################################\n",
        "#### Making batches of data and the apply augmentation on the data\n",
        "########################################################################################################\n",
        "\n",
        "BATCH_SIZE = 16\n",
        "\n",
        "def create_datagen():\n",
        "    return ImageDataGenerator(\n",
        "        zoom_range=0.1,  # set range for random zoom\n",
        "        # set mode for filling points outside the input boundaries\n",
        "        fill_mode='constant',\n",
        "        cval=0.,  # value used for fill_mode = \"constant\"\n",
        "        horizontal_flip=True,  # randomly flip images\n",
        "        vertical_flip=True,  # randomly flip images,\n",
        "        validation_split=0.25\n",
        "    )\n",
        "\n",
        "def create_test_gen():\n",
        "    return ImageDataGenerator().flow_from_dataframe(\n",
        "        test,\n",
        "        directory='/kaggle/tmp/',\n",
        "        x_col='filename',\n",
        "        class_mode=None,\n",
        "        target_size=(299, 299),\n",
        "        batch_size=BATCH_SIZE,\n",
        "        shuffle=False\n",
        "    )\n",
        "\n",
        "def create_flow(datagen, subset):\n",
        "    return datagen.flow_from_dataframe(\n",
        "        pivot_df,\n",
        "        directory='/kaggle/tmp/',\n",
        "        x_col='filename',\n",
        "        y_col=['any', 'epidural', 'intraparenchymal',\n",
        "               'intraventricular', 'subarachnoid', 'subdural'],\n",
        "        class_mode='other',\n",
        "        target_size=(299, 299),\n",
        "        batch_size=BATCH_SIZE,\n",
        "        subset=subset\n",
        "    )\n",
        "\n",
        "# Using original generator\n",
        "data_generator = create_datagen()\n",
        "train_gen = create_flow(data_generator, 'training')\n",
        "val_gen = create_flow(data_generator, 'validation')\n",
        "test_gen = create_test_gen()"
      ],
      "metadata": {
        "execution": {
          "iopub.status.busy": "2024-05-10T10:31:48.497400Z",
          "iopub.execute_input": "2024-05-10T10:31:48.498098Z",
          "iopub.status.idle": "2024-05-10T10:31:49.179588Z",
          "shell.execute_reply.started": "2024-05-10T10:31:48.498032Z",
          "shell.execute_reply": "2024-05-10T10:31:49.177770Z"
        },
        "trusted": true,
        "id": "EtPXako1htZF"
      },
      "execution_count": null,
      "outputs": []
    },
    {
      "cell_type": "code",
      "source": [
        "##################################################################\n",
        "####Here we are checking the training set batch and its output\n",
        "##################################################################\n",
        "for data_batch,label_batch in train_gen:\n",
        "    print(\"DATA SHAPE: \",data_batch.shape)\n",
        "    print(\"LABEL SHAPE: \",label_batch.shape)\n",
        "    break"
      ],
      "metadata": {
        "execution": {
          "iopub.status.busy": "2024-05-10T10:31:49.182421Z",
          "iopub.execute_input": "2024-05-10T10:31:49.182929Z",
          "iopub.status.idle": "2024-05-10T10:31:49.697423Z",
          "shell.execute_reply.started": "2024-05-10T10:31:49.182890Z",
          "shell.execute_reply": "2024-05-10T10:31:49.695704Z"
        },
        "trusted": true,
        "id": "XCGoan8XhtZF"
      },
      "execution_count": null,
      "outputs": []
    },
    {
      "cell_type": "code",
      "source": [
        "#############################################################################\n",
        "####Here we are checking the validation or testing set batch and its output\n",
        "#############################################################################\n",
        "for data_batch,label_batch in val_gen:\n",
        "    print(\"DATA SHAPE: \",data_batch.shape)\n",
        "    print(\"LABEL SHAPE: \",label_batch.shape)\n",
        "    break"
      ],
      "metadata": {
        "execution": {
          "iopub.status.busy": "2024-05-10T10:31:49.699624Z",
          "iopub.execute_input": "2024-05-10T10:31:49.700072Z",
          "iopub.status.idle": "2024-05-10T10:31:50.154323Z",
          "shell.execute_reply.started": "2024-05-10T10:31:49.700033Z",
          "shell.execute_reply": "2024-05-10T10:31:50.152660Z"
        },
        "trusted": true,
        "id": "XpW3IQl4htZG"
      },
      "execution_count": null,
      "outputs": []
    },
    {
      "cell_type": "code",
      "source": [
        "import numpy as np\n",
        "from sklearn.model_selection import train_test_split"
      ],
      "metadata": {
        "execution": {
          "iopub.status.busy": "2024-05-10T10:31:50.156547Z",
          "iopub.execute_input": "2024-05-10T10:31:50.157403Z",
          "iopub.status.idle": "2024-05-10T10:31:50.165734Z",
          "shell.execute_reply.started": "2024-05-10T10:31:50.157345Z",
          "shell.execute_reply": "2024-05-10T10:31:50.163709Z"
        },
        "trusted": true,
        "id": "ScZmHxa4htZG"
      },
      "execution_count": null,
      "outputs": []
    },
    {
      "cell_type": "code",
      "source": [
        "X_train, X_test, y_train, y_test = train_test_split(\n",
        " data_batch, label_batch, test_size=0.33, random_state=42)"
      ],
      "metadata": {
        "execution": {
          "iopub.status.busy": "2024-05-10T10:31:50.168265Z",
          "iopub.execute_input": "2024-05-10T10:31:50.168900Z",
          "iopub.status.idle": "2024-05-10T10:31:50.207943Z",
          "shell.execute_reply.started": "2024-05-10T10:31:50.168842Z",
          "shell.execute_reply": "2024-05-10T10:31:50.206335Z"
        },
        "trusted": true,
        "id": "z5P79zOehtZG"
      },
      "execution_count": null,
      "outputs": []
    },
    {
      "cell_type": "code",
      "source": [
        "X_train.shape"
      ],
      "metadata": {
        "execution": {
          "iopub.status.busy": "2024-05-10T10:31:50.210364Z",
          "iopub.execute_input": "2024-05-10T10:31:50.210961Z",
          "iopub.status.idle": "2024-05-10T10:31:50.223840Z",
          "shell.execute_reply.started": "2024-05-10T10:31:50.210905Z",
          "shell.execute_reply": "2024-05-10T10:31:50.222214Z"
        },
        "trusted": true,
        "id": "dhKZdwGChtZG"
      },
      "execution_count": null,
      "outputs": []
    },
    {
      "cell_type": "code",
      "source": [
        "from tensorflow.keras.applications import xception"
      ],
      "metadata": {
        "execution": {
          "iopub.status.busy": "2024-05-10T10:31:50.226477Z",
          "iopub.execute_input": "2024-05-10T10:31:50.226964Z",
          "iopub.status.idle": "2024-05-10T10:31:50.248205Z",
          "shell.execute_reply.started": "2024-05-10T10:31:50.226924Z",
          "shell.execute_reply": "2024-05-10T10:31:50.246589Z"
        },
        "trusted": true,
        "id": "t5pHIDOUhtZG"
      },
      "execution_count": null,
      "outputs": []
    },
    {
      "cell_type": "code",
      "source": [
        "#############################################################################\n",
        "####Here we are setting the branch 1 of the double cnn-rf model\n",
        "#############################################################################\n",
        "from tensorflow.keras.models import Model\n",
        "#from tensorflow.keras.applications import mobilenet_v2\n",
        "from tensorflow.keras.callbacks import EarlyStopping, ModelCheckpoint\n",
        "#tf.keras.applications.MobileNetV2()\n",
        "#branch1 = mobilenet_v2.MobileNetV2()\n",
        "tf.keras.applications.Xception()\n",
        "branch1 = xception.Xception()\n",
        "#branch1 = resnet50.ResNet50()\n",
        "branch1.layers.pop()\n",
        "for layer in branch1.layers:\n",
        "  layer.trainable=False\n",
        "last = branch1.layers[-2].output####################### getting last layer of pooling and it give 2046 features#######\n",
        "x = Dense(6, activation=\"softmax\")(last)#########last layer for classification for experiment no 01#########\n",
        "finetuned_model_1= Model(branch1.input, x, name=\"Branch 1\")\n",
        "finetuned_model_1.summary()\n",
        "finetuned_model_1.compile(optimizer=Adam(lr=0.0001), loss='binary_crossentropy', metrics=['accuracy','mse', 'mae', 'mape', 'cosine'])\n",
        "\n",
        "\n",
        "checkpoint = ModelCheckpoint(\n",
        "    'model.h5',\n",
        "    monitor='val_loss',\n",
        "    verbose=0,\n",
        "    save_best_only=True,\n",
        "    save_weights_only=False,\n",
        "    mode='auto'\n",
        ")\n",
        "'''\n",
        "Resnet_Model1 = finetuned_model_1.fit_generator(\n",
        "    train_gen,\n",
        "    steps_per_epoch=200,\n",
        "    validation_data=val_gen,\n",
        "    validation_steps=100,\n",
        "    callbacks=[checkpoint],\n",
        "    epochs=30\n",
        ")\n",
        "Prediction_branch1 = finetuned_model_1.predict(test_gen)\n",
        "'''\n",
        "\n",
        "\n",
        "##############################################################################\n",
        "###########################################################################\n",
        "## if you want to perform experiment no 1, which is based on the output of bracnch 1.\n",
        "##Simply if you want to perform classisfication through branch 1, so please remove the comments. Experiment #1 described in Section 3.\n",
        "###########################################################################\n",
        "'''\n",
        "###################\n",
        "########parameters, including the number of epochs (60),were chosen experimentally.\n",
        "########## The training was terminated automatically if the validation loss did notdecrease for ten epochs (patience 10).#########\n",
        "############as mentioned in paper#########\n",
        "'''"
      ],
      "metadata": {
        "execution": {
          "iopub.status.busy": "2024-05-10T10:31:50.250881Z",
          "iopub.execute_input": "2024-05-10T10:31:50.251476Z",
          "iopub.status.idle": "2024-05-10T10:32:07.916436Z",
          "shell.execute_reply.started": "2024-05-10T10:31:50.251412Z",
          "shell.execute_reply": "2024-05-10T10:32:07.914794Z"
        },
        "trusted": true,
        "id": "fsCkoDt1htZH"
      },
      "execution_count": null,
      "outputs": []
    },
    {
      "cell_type": "code",
      "source": [
        "#############################################################################\n",
        "####Here we are setting the branch 2 of the double cnn-rf model\n",
        "#############################################################################\n",
        "from tensorflow.keras.models import Model\n",
        "#from tensorflow.keras.applications import mobilenet_v2\n",
        "from tensorflow.keras.callbacks import EarlyStopping, ModelCheckpoint\n",
        "#tf.keras.applications.MobileNetV2()\n",
        "#branch2 = mobilenet_v2.MobileNetV2()\n",
        "#branch2 = resnet50.ResNet50()\n",
        "#branch2 = resnet50.ResNet50()\n",
        "tf.keras.applications.Xception()\n",
        "branch2 = xception.Xception()\n",
        "branch2.layers.pop()\n",
        "for layer in branch2.layers:\n",
        "    layer.trainable=False\n",
        "last = branch2.layers[-2].output####################### getting last layer of pooling and it give 2046 features#######\n",
        "x = Dense(6, activation=\"softmax\")(last)#########last layer for classification for experiment no 01#########\n",
        "finetuned_model_2= Model(branch2.input, x, name=\"Branch 2\")\n",
        "finetuned_model_2.summary()\n",
        "finetuned_model_2.compile(optimizer=Adam(lr=0.0001), loss='binary_crossentropy', metrics=['accuracy','mse', 'mae', 'mape', 'cosine'])\n",
        "\n",
        "\n",
        "checkpoint = ModelCheckpoint(\n",
        "    'model.h5',\n",
        "    monitor='val_loss',\n",
        "    verbose=0,\n",
        "    save_best_only=True,\n",
        "    save_weights_only=False,\n",
        "    mode='auto'\n",
        ")\n",
        "'''\n",
        "Resnet_Model2 = finetuned_model_2.fit_generator(\n",
        "    train_gen,\n",
        "    steps_per_epoch=300,\n",
        "    validation_data=val_gen,\n",
        "    validation_steps=200,\n",
        "    callbacks=[checkpoint],\n",
        "    epochs=60\n",
        ")\n",
        "Prediction_branch2 = finetuned_model_2.predict(test_gen)\n",
        "'''\n",
        "\n",
        "\n",
        "##############################################################################\n",
        "###########################################################################\n",
        "## if you want to perform experiment no 1, which is based on the output of bracnch 1.\n",
        "##Simply if you want to perform classisfication through branch 1, so please remove the comments. Experiment #1 described in Section 3.\n",
        "###########################################################################\n",
        "\n",
        "###################\n",
        "########parameters, including the number of epochs (60),were chosen experimentally.\n",
        "########## The training was terminated automatically if the validation loss did notdecrease for ten epochs (patience 10).#########\n",
        "############as mentioned in paper#########\n"
      ],
      "metadata": {
        "execution": {
          "iopub.status.busy": "2024-05-10T10:32:07.918641Z",
          "iopub.execute_input": "2024-05-10T10:32:07.919019Z",
          "iopub.status.idle": "2024-05-10T10:32:13.108845Z",
          "shell.execute_reply.started": "2024-05-10T10:32:07.918986Z",
          "shell.execute_reply": "2024-05-10T10:32:13.106822Z"
        },
        "trusted": true,
        "id": "Ptk8-SqLhtZH"
      },
      "execution_count": null,
      "outputs": []
    },
    {
      "cell_type": "code",
      "source": [
        "from tensorflow.keras.layers import concatenate\n",
        "###########################\n",
        "###########################we have taken the features extracted by either\n",
        "########branch after the average pooling layer as mentioned in paper###########################\n",
        "'''\n",
        "As mentioned in the paper, after the training, features from the last block preceding the ResNet-50’s fully connected layer\n",
        "were taken from either branch and concatenated. The joint feature vector containing 4096 elements\n",
        "was subjected to the classification process. As we can check that in output, we are getting right same features 4096.\n",
        "'''\n",
        "print('Getting training features and concatenation---------------start')\n",
        "model1= Model(branch1.input, branch1.layers[-2].output)\n",
        "model1_features=model1.predict(train_gen)\n",
        "model1_features=pd.DataFrame(model1_features)\n",
        "print(\"Branch1_features\", model1_features.shape)\n",
        "\n",
        "model2= Model(branch2.input, branch2.layers[-2].output)\n",
        "model2_features=model2.predict(train_gen)\n",
        "model2_features=pd.DataFrame(model2_features)\n",
        "print(\"Branch2_features\", model2_features.shape)\n",
        "\n",
        "####################################Concatenation of features###########################\n",
        "concatenated_features=pd.concat([model1_features,model2_features], axis=1)\n",
        "print(\"Combined_features\", concatenated_features.shape)\n",
        "\n",
        "print('Getting validation features and concatenation---------------start')\n",
        "model1= Model(branch1.input, branch1.layers[-2].output)\n",
        "model1_val_features=model1.predict(val_gen)\n",
        "model1_val_features=pd.DataFrame(model1_val_features)\n",
        "print(\"Branch1_val_features\", model1_val_features.shape)\n",
        "\n",
        "model2= Model(branch2.input, branch2.layers[-2].output)\n",
        "model2_val_features=model2.predict(val_gen)\n",
        "model2_val_features=pd.DataFrame(model2_val_features)\n",
        "print(\"Branch2_val_features\", model2_val_features.shape)\n",
        "\n",
        "####################################Concatenation of features###########################\n",
        "concatenated_val_features=pd.concat([model1_val_features,model2_val_features], axis=1)\n",
        "print(\"Combined_val_features\", concatenated_val_features.shape)\n",
        "#############################################################################\n",
        "####Here, we have obtained the fatures from branch1 and branch 2\n",
        "#############################################################################"
      ],
      "metadata": {
        "execution": {
          "iopub.status.busy": "2024-05-10T10:32:13.130199Z",
          "iopub.execute_input": "2024-05-10T10:32:13.131583Z",
          "iopub.status.idle": "2024-05-10T11:07:03.145470Z",
          "shell.execute_reply.started": "2024-05-10T10:32:13.131481Z",
          "shell.execute_reply": "2024-05-10T11:07:03.143779Z"
        },
        "trusted": true,
        "id": "5gerzJqwhtZH"
      },
      "execution_count": null,
      "outputs": []
    },
    {
      "cell_type": "code",
      "source": [
        "#############################################################################\n",
        "####Setting labels for combined training and testing data\n",
        "#############################################################################\n",
        "####################################Training Labels of features###########################\n",
        "feature_train_labels=pd.DataFrame(train_gen.labels)\n",
        "print(feature_train_labels)\n",
        "\n",
        "####################################Test Labels###########################\n",
        "feature_test_labels=pd.DataFrame(val_gen.labels)\n",
        "len(feature_test_labels.shape)\n",
        "\n"
      ],
      "metadata": {
        "execution": {
          "iopub.status.busy": "2024-05-10T11:07:03.148117Z",
          "iopub.execute_input": "2024-05-10T11:07:03.149531Z",
          "iopub.status.idle": "2024-05-10T11:07:03.175310Z",
          "shell.execute_reply.started": "2024-05-10T11:07:03.149463Z",
          "shell.execute_reply": "2024-05-10T11:07:03.173392Z"
        },
        "trusted": true,
        "id": "hRRa_vrwhtZI"
      },
      "execution_count": null,
      "outputs": []
    },
    {
      "cell_type": "code",
      "source": [
        "################################We used the knn classifier with same hyperparamters##################\n",
        "###########################as mentioned in the paper#################################\n",
        "###################################################################################################\n",
        "from sklearn.neighbors import KNeighborsClassifier\n",
        "knn = KNeighborsClassifier(n_neighbors=7)\n",
        "#from sklearn.ensemble import RandomForestClassifier\n",
        "#knn=LinearSVC(multi_class='crammer_singer')\n",
        "knn.fit(concatenated_features,feature_train_labels)\n",
        "knn.fit(concatenated_val_features,feature_test_labels)\n",
        "print(\"done tarining\")"
      ],
      "metadata": {
        "execution": {
          "iopub.status.busy": "2024-05-10T11:07:03.179653Z",
          "iopub.execute_input": "2024-05-10T11:07:03.181310Z",
          "iopub.status.idle": "2024-05-10T11:07:03.755466Z",
          "shell.execute_reply.started": "2024-05-10T11:07:03.181215Z",
          "shell.execute_reply": "2024-05-10T11:07:03.753687Z"
        },
        "trusted": true,
        "id": "LaK1KIr_htZI"
      },
      "execution_count": null,
      "outputs": []
    },
    {
      "cell_type": "code",
      "source": [
        "pred_knn= knn.predict(concatenated_val_features)\n",
        "print(\"pred_KNN\",pred_knn.shape)\n",
        "####################################################################################"
      ],
      "metadata": {
        "execution": {
          "iopub.status.busy": "2024-05-10T11:07:03.757642Z",
          "iopub.execute_input": "2024-05-10T11:07:03.758194Z",
          "iopub.status.idle": "2024-05-10T11:07:05.323724Z",
          "shell.execute_reply.started": "2024-05-10T11:07:03.758143Z",
          "shell.execute_reply": "2024-05-10T11:07:05.321658Z"
        },
        "trusted": true,
        "id": "LmgUunIthtZJ"
      },
      "execution_count": null,
      "outputs": []
    },
    {
      "cell_type": "code",
      "source": [
        "####################################################################################\n",
        "######Performance evaluation of the combined double-branch convolutional neural network (CNN)\n",
        "############################based on the ResNet-50 architecture with Random forest#######################\n",
        "########################################################################################\n",
        "from sklearn import metrics\n",
        "accuracy=metrics.accuracy_score(feature_test_labels,pred_knn.round())\n",
        "print(\"Accuracy of combined model with KNN: {0:0.4f}\".format(accuracy*100))\n",
        "\n",
        "from sklearn.metrics import f1_score\n",
        "f1score=f1_score(pred_knn,feature_test_labels, average='weighted')\n",
        "print(\"F1score of combined model with KNN: {0:0.4f}\".format( f1score*100))\n",
        "\n",
        "from sklearn.metrics import recall_score\n",
        "recall = recall_score(feature_test_labels,pred_knn, average='weighted')\n",
        "print('Recall score of combined model with KNN: {0:0.4f}'.format(recall*100))\n",
        "\n",
        "from sklearn.metrics import precision_score\n",
        "precision = precision_score(pred_knn.round(),feature_test_labels,average='weighted')\n",
        "print('Precision of combined model with KNN: {0:0.4f}'.format(precision*100))\n",
        "\n",
        "####################################################################################\n",
        "####################################################################################"
      ],
      "metadata": {
        "execution": {
          "iopub.status.busy": "2024-05-10T11:07:05.326764Z",
          "iopub.execute_input": "2024-05-10T11:07:05.327690Z",
          "iopub.status.idle": "2024-05-10T11:07:05.379753Z",
          "shell.execute_reply.started": "2024-05-10T11:07:05.327607Z",
          "shell.execute_reply": "2024-05-10T11:07:05.377738Z"
        },
        "trusted": true,
        "id": "vi2ruG8DhtZJ"
      },
      "execution_count": null,
      "outputs": []
    },
    {
      "cell_type": "code",
      "source": [
        "####################################################################################\n",
        "######Performance evaluation of the combined double-branch convolutional neural network (CNN)\n",
        "############################based on the xception architecture with knn #######################\n",
        "########################################################################################\n",
        "\n",
        "from sklearn.metrics import multilabel_confusion_matrix\n",
        "cm1 = multilabel_confusion_matrix(feature_test_labels,pred_knn)\n",
        "print(cm1)"
      ],
      "metadata": {
        "execution": {
          "iopub.status.busy": "2024-05-10T11:07:05.382027Z",
          "iopub.execute_input": "2024-05-10T11:07:05.383518Z",
          "iopub.status.idle": "2024-05-10T11:07:05.403799Z",
          "shell.execute_reply.started": "2024-05-10T11:07:05.383458Z",
          "shell.execute_reply": "2024-05-10T11:07:05.401159Z"
        },
        "trusted": true,
        "id": "lrZeL4wFhtZJ"
      },
      "execution_count": null,
      "outputs": []
    },
    {
      "cell_type": "code",
      "source": [
        "####################################################################################\n",
        "######Performance evaluation of the combined double-branch convolutional neural network (CNN)\n",
        "############################based on the ResNet-50 architecture with Random forest#######################\n",
        "########################################################################################\n",
        "\n",
        "first_cat=cm1[0]\n",
        "tn, fp, fn, tp = first_cat.ravel()\n",
        "fpr = fp / (tn + fp)\n",
        "fnr = fn / (tp + fn)\n",
        "TPR = tp/(tp+fn)\n",
        "TNR = tn/(tn+fp)\n",
        "acc_1=(tp+tn)/(tp+tn+fp+fn)\n",
        "print(\"fpr for any is :\",fpr*100)\n",
        "print(\"fnr for any is :  \",fnr*100)\n",
        "print(\"TPR for any is : \",TPR*100)\n",
        "print(\"TNR for any is : \",TNR*100)\n",
        "print(\"Accuracy for any is \",acc_1*100)\n",
        "\n",
        "second_cat=cm1[1]\n",
        "tn, fp, fn, tp = second_cat.ravel()\n",
        "fpr = fp / (tn + fp)\n",
        "fnr = fn / (tp + fn)\n",
        "TPR = tp/(tp+fn)\n",
        "TNR = tn/(tn+fp)\n",
        "acc_2=(tp+tn)/(tp+tn+fp+fn)\n",
        "print(\"fpr for epidural is :  \",fpr*100)\n",
        "print(\"fnr for epidural is : \",fnr*100)\n",
        "print(\"TPR for epidural is : \",TPR*100)\n",
        "print(\"TNR for epidural is : \",TNR*100)\n",
        "print(\"Accuracy for epidural is : \",acc_2*100)\n",
        "\n",
        "third_cat=cm1[2]\n",
        "tn, fp, fn, tp = third_cat.ravel()\n",
        "fpr = fp / (tn + fp)\n",
        "fnr = fn / (tp + fn)\n",
        "TPR = tp/(tp+fn)\n",
        "TNR = tn/(tn+fp)\n",
        "acc_3=(tp+tn)/(tp+tn+fp+fn)\n",
        "print(\"fpr for intraparenchymal is : \",fpr*100)\n",
        "print(\"fnr for intraparenchymal is : \",fnr*100)\n",
        "print(\"TPR for intraparenchymal is : \",TPR*100)\n",
        "print(\"TNR for intraparenchymal is : \",TNR*100)\n",
        "print(\"Accuracy for intraparenchymal is \",acc_3*100)\n",
        "\n",
        "fourth_cat=cm1[3]\n",
        "tn, fp, fn, tp = fourth_cat.ravel()\n",
        "fpr = fp / (tn + fp)\n",
        "fnr = fn / (tp + fn)\n",
        "TPR = tp/(tp+fn)\n",
        "TNR = tn/(tn+fp)\n",
        "acc_4=(tp+tn)/(tp+tn+fp+fn)\n",
        "print(\"fpr for intraventricular is : \",fpr*100)\n",
        "print(\"fnr for intraventricular is :  \",fnr*100)\n",
        "print(\"TPR for intraventricular is : \",TPR*100)\n",
        "print(\"TNR for intraventricular is : \",TNR*100)\n",
        "print(\"Accuracy for intraventricular : is \",acc_4*100)\n",
        "\n",
        "fifth_cat=cm1[4]\n",
        "tn, fp, fn, tp = fourth_cat.ravel()\n",
        "fpr = fp / (tn + fp)\n",
        "fnr = fn / (tp + fn)\n",
        "TPR = tp/(tp+fn)\n",
        "TNR = tn/(tn+fp)\n",
        "acc_5=(tp+tn)/(tp+tn+fp+fn)\n",
        "print(\"fpr for subarachnoid is  : \",fpr*100)\n",
        "print(\"fnr for subarachnoid is :  \",fnr*100)\n",
        "print(\"TPR for subarachnoid is : \",TPR*100)\n",
        "print(\"TNR for subarachnoid is : \",TNR*100)\n",
        "print(\"Accuracy for subarachnoid is :  \",acc_5*100)\n",
        "\n",
        "sixth_cat=cm1[5]\n",
        "tn, fp, fn, tp = sixth_cat.ravel()\n",
        "fpr = fp / (tn + fp)\n",
        "fnr = fn / (tp + fn)\n",
        "TPR = tp/(tp+fn)\n",
        "TNR = tn/(tn+fp)\n",
        "acc_6=(tp+tn)/(tp+tn+fp+fn)\n",
        "print(\"fpr for subdural is : \",fpr*100)\n",
        "print(\"fnr for subdural is : \",fnr*100)\n",
        "print(\"TPR for subdural is : \",TPR*100)\n",
        "print(\"TNR for subdural is :\",TNR*100)\n",
        "print(\"Accuracy for Subdural is \",acc_6*100)"
      ],
      "metadata": {
        "execution": {
          "iopub.status.busy": "2024-05-10T11:07:05.407410Z",
          "iopub.execute_input": "2024-05-10T11:07:05.407929Z",
          "iopub.status.idle": "2024-05-10T11:07:05.447996Z",
          "shell.execute_reply.started": "2024-05-10T11:07:05.407872Z",
          "shell.execute_reply": "2024-05-10T11:07:05.445600Z"
        },
        "trusted": true,
        "id": "QK0k5nGEhtZJ"
      },
      "execution_count": null,
      "outputs": []
    },
    {
      "cell_type": "code",
      "source": [
        "####################################################################################\n",
        "######Performance evaluation of the combined double-branch convolutional neural network (CNN)\n",
        "############################based on the xception architecture with Knn#######################\n",
        "########################################################################################\n",
        "from sklearn import metrics\n",
        "accuracy=metrics.accuracy_score(feature_test_labels,pred_knn.round())\n",
        "print(\"Accuracy of combined model with KNN: {0:0.4f}\".format(accuracy*100))\n",
        "\n",
        "from sklearn.metrics import f1_score\n",
        "f1score=f1_score(pred_knn,feature_test_labels, average='weighted')\n",
        "print(\"F1score of combined model with KNN: {0:0.4f}\".format( f1score*100))\n",
        "\n",
        "from sklearn.metrics import recall_score\n",
        "recall = recall_score(feature_test_labels,pred_knn, average='weighted')\n",
        "print('Recall score of combined model with KNN: {0:0.4f}'.format(recall*100))\n",
        "\n",
        "from sklearn.metrics import precision_score\n",
        "precision = precision_score(pred_knn.round(),feature_test_labels,average='weighted')\n",
        "print('Precision of combined model with KNN: {0:0.4f}'.format(precision*100))\n",
        "\n",
        "####################################################################################\n",
        "####################################################################################"
      ],
      "metadata": {
        "execution": {
          "iopub.status.busy": "2024-05-10T11:07:05.450596Z",
          "iopub.execute_input": "2024-05-10T11:07:05.451003Z",
          "iopub.status.idle": "2024-05-10T11:07:05.493035Z",
          "shell.execute_reply.started": "2024-05-10T11:07:05.450971Z",
          "shell.execute_reply": "2024-05-10T11:07:05.491126Z"
        },
        "trusted": true,
        "id": "ukIQ8brUhtZK"
      },
      "execution_count": null,
      "outputs": []
    },
    {
      "cell_type": "code",
      "source": [
        "#######################################################################################\n",
        "#### Demonstration of single image and its complete meta-data information\n",
        "######################################################################################\n",
        "import pydicom\n",
        "case = 8\n",
        "data = pydicom.dcmread(TRAIN_IMG_PATH+train_images[case])\n",
        "\n",
        "print(\"data\",data)\n",
        "window_center , window_width, intercept, slope = get_windowing(data)\n",
        "\n",
        "\n",
        "#displaying the image\n",
        "img = pydicom.read_file(TRAIN_IMG_PATH+train_images[case]).pixel_array\n",
        "\n",
        "img = window_image(img, window_center, window_width, intercept, slope)\n",
        "plt.imshow(img, cmap=plt.cm.bone)\n",
        "plt.grid(False)"
      ],
      "metadata": {
        "execution": {
          "iopub.status.busy": "2024-05-10T11:07:05.495537Z",
          "iopub.execute_input": "2024-05-10T11:07:05.496786Z",
          "iopub.status.idle": "2024-05-10T11:07:06.021597Z",
          "shell.execute_reply.started": "2024-05-10T11:07:05.496679Z",
          "shell.execute_reply": "2024-05-10T11:07:06.019929Z"
        },
        "trusted": true,
        "id": "vssYo33xhtZK"
      },
      "execution_count": null,
      "outputs": []
    },
    {
      "cell_type": "code",
      "source": [
        "#######################################################################################\n",
        "#### Demonstration of some epidural images with label 1\n",
        "######################################################################################\n",
        "\n",
        "view_images(train[(train['type'] == 'epidural') & (train['Label'] == 1)][:10].PatientID.values, title = 'Images with epidural')"
      ],
      "metadata": {
        "execution": {
          "iopub.status.busy": "2024-05-10T11:07:06.023520Z",
          "iopub.execute_input": "2024-05-10T11:07:06.023908Z",
          "iopub.status.idle": "2024-05-10T11:07:07.337084Z",
          "shell.execute_reply.started": "2024-05-10T11:07:06.023875Z",
          "shell.execute_reply": "2024-05-10T11:07:07.335361Z"
        },
        "trusted": true,
        "id": "6Hc8EJqphtZK"
      },
      "execution_count": null,
      "outputs": []
    },
    {
      "cell_type": "code",
      "source": [
        "#######################################################################################\n",
        "#### Demonstration of some intraparenchymal images with label 1\n",
        "######################################################################################\n",
        "view_images(train[(train['type'] == 'intraparenchymal') & (train['Label'] == 1)][:10].PatientID.values, title = 'Images with intraparenchymal')"
      ],
      "metadata": {
        "execution": {
          "iopub.status.busy": "2024-05-10T11:07:07.339003Z",
          "iopub.execute_input": "2024-05-10T11:07:07.339829Z",
          "iopub.status.idle": "2024-05-10T11:07:08.511662Z",
          "shell.execute_reply.started": "2024-05-10T11:07:07.339785Z",
          "shell.execute_reply": "2024-05-10T11:07:08.510212Z"
        },
        "trusted": true,
        "id": "E6vqqBuChtZK"
      },
      "execution_count": null,
      "outputs": []
    },
    {
      "cell_type": "code",
      "source": [
        "######################################################################################\n",
        "#### Demonstration of some subarachnoid images with label 1\n",
        "######################################################################################\n",
        "view_images(train[(train['type'] == 'subarachnoid') & (train['Label'] == 1)][:10].PatientID.values, title = 'Images with subarachnoid')"
      ],
      "metadata": {
        "execution": {
          "iopub.status.busy": "2024-05-10T11:07:08.513934Z",
          "iopub.execute_input": "2024-05-10T11:07:08.514409Z",
          "iopub.status.idle": "2024-05-10T11:07:09.581185Z",
          "shell.execute_reply.started": "2024-05-10T11:07:08.514369Z",
          "shell.execute_reply": "2024-05-10T11:07:09.578442Z"
        },
        "trusted": true,
        "id": "XZEyAN12htZL"
      },
      "execution_count": null,
      "outputs": []
    },
    {
      "cell_type": "code",
      "source": [
        "#######################################################################################\n",
        "#### Demonstration of some subdural images with label 1\n",
        "######################################################################################\n",
        "view_images(train[(train['type'] == 'subdural') & (train['Label'] == 1)][:10].PatientID.values, title = 'Images with subdural')"
      ],
      "metadata": {
        "execution": {
          "iopub.status.busy": "2024-05-10T11:07:09.588480Z",
          "iopub.execute_input": "2024-05-10T11:07:09.592801Z",
          "iopub.status.idle": "2024-05-10T11:07:10.652781Z",
          "shell.execute_reply.started": "2024-05-10T11:07:09.592373Z",
          "shell.execute_reply": "2024-05-10T11:07:10.651191Z"
        },
        "trusted": true,
        "id": "Q9RF-ae4htZW"
      },
      "execution_count": null,
      "outputs": []
    },
    {
      "cell_type": "code",
      "source": [
        "import os\n",
        "import pydicom\n",
        "import matplotlib.pyplot as plt\n",
        "\n",
        "# Define the directory where DICOM files are located\n",
        "input_dir = '/kaggle/input/new-try3/'\n",
        "\n",
        "# List all files in the directory\n",
        "file_list = os.listdir(input_dir)\n",
        "\n",
        "# Filter for DICOM files\n",
        "dicom_files = [f for f in file_list if f.endswith('.dcm')]\n",
        "\n",
        "# Loop through each DICOM file\n",
        "for file_name in dicom_files:\n",
        "    # Read the DICOM file\n",
        "    dcm = pydicom.dcmread(os.path.join(input_dir, file_name))\n",
        "\n",
        "    # Extract pixel data\n",
        "    pixel_array = dcm.pixel_array\n",
        "\n",
        "    # Display the image (optional)\n",
        "    plt.imshow(pixel_array, cmap='gray')\n",
        "    plt.title('DICOM Image')\n",
        "    plt.show()\n"
      ],
      "metadata": {
        "execution": {
          "iopub.status.busy": "2024-05-10T12:01:56.796874Z",
          "iopub.execute_input": "2024-05-10T12:01:56.797502Z",
          "iopub.status.idle": "2024-05-10T12:01:59.409443Z",
          "shell.execute_reply.started": "2024-05-10T12:01:56.797451Z",
          "shell.execute_reply": "2024-05-10T12:01:59.408410Z"
        },
        "trusted": true,
        "id": "lEicODphhtZX"
      },
      "execution_count": null,
      "outputs": []
    },
    {
      "cell_type": "code",
      "source": [
        "import os\n",
        "import pydicom\n",
        "import matplotlib.pyplot as plt\n",
        "\n",
        "# Define the directory where DICOM files are located\n",
        "input_dir = '/kaggle/input/new-try3/'  # Change this to your test image directory\n",
        "\n",
        "# List all files in the directory\n",
        "file_list = os.listdir(input_dir)\n",
        "\n",
        "# Filter for DICOM files\n",
        "dicom_files = [f for f in file_list if f.endswith('.dcm')]\n",
        "\n",
        "# Load the trained model (replace 'model.h5' with the path to your saved model)\n",
        "model = load_model('model.h5')\n",
        "\n",
        "# Loop through each DICOM file\n",
        "for file_name in dicom_files:\n",
        "    # Read the DICOM file\n",
        "    dcm = pydicom.dcmread(os.path.join(input_dir, file_name))\n",
        "\n",
        "    # Extract pixel data\n",
        "    pixel_array = dcm.pixel_array\n",
        "\n",
        "    # Preprocess the image (apply windowing and resize if necessary)\n",
        "    # (Replace this preprocessing step with your actual preprocessing code)\n",
        "    # processed_image = preprocess_image(pixel_array)\n",
        "\n",
        "    # Make predictions on the processed image using the trained model\n",
        "    # (Replace this prediction step with your actual prediction code)\n",
        "    # prediction = model.predict(processed_image)\n",
        "\n",
        "    # For demonstration purposes, let's assume the prediction is a list of probabilities\n",
        "    # representing the likelihood of each hemorrhage type\n",
        "    prediction = [0.1, 0.8, 0.3, 0.6, 0.2, 0.7]  # Example prediction\n",
        "\n",
        "    # Get the predicted hemorrhage type (index with maximum probability)\n",
        "    predicted_hemorrhage_type = prediction.index(max(prediction))\n",
        "\n",
        "    # Define a mapping from index to hemorrhage type\n",
        "    hemorrhage_types = ['any', 'epidural', 'intraparenchymal', 'intraventricular', 'subarachnoid', 'subdural']\n",
        "\n",
        "    # Get the predicted hemorrhage type label\n",
        "    predicted_label = hemorrhage_types[predicted_hemorrhage_type]\n",
        "\n",
        "    # Display the image with the predicted hemorrhage type\n",
        "    plt.imshow(pixel_array, cmap='gray')\n",
        "    plt.title('Predicted Hemorrhage Type: ' + predicted_label)\n",
        "    plt.show()\n"
      ],
      "metadata": {
        "execution": {
          "iopub.status.busy": "2024-05-10T12:02:10.443062Z",
          "iopub.execute_input": "2024-05-10T12:02:10.443911Z",
          "iopub.status.idle": "2024-05-10T12:02:13.060670Z",
          "shell.execute_reply.started": "2024-05-10T12:02:10.443847Z",
          "shell.execute_reply": "2024-05-10T12:02:13.058958Z"
        },
        "trusted": true,
        "id": "6fhZpbdUhtZX"
      },
      "execution_count": null,
      "outputs": []
    },
    {
      "cell_type": "code",
      "source": [],
      "metadata": {
        "id": "vN9LncEAhtZX"
      },
      "execution_count": null,
      "outputs": []
    }
  ]
}